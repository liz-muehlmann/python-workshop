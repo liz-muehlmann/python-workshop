{
 "cells": [
  {
   "attachments": {},
   "cell_type": "markdown",
   "metadata": {},
   "source": [
    "### Module 1: Python Setup\n",
    "    - Basic commands list included in folder."
   ]
  },
  {
   "attachments": {},
   "cell_type": "markdown",
   "metadata": {},
   "source": [
    "### Module 2: Python Fundamentals\n",
    "##### Questions:  \n",
    "\n",
    "    1. What basic data types can I work with in python?  \n",
    "    2. How can I create a new variable in Python?  \n",
    "    3. Can I change the value associated with a variable after I create it?  \n",
    "\n",
    "##### Objectives:  \n",
    "\n",
    "    - Assign values to variables.\n",
    "\n",
    "##### Notes:\n",
    "- weight_kg = 60 assigns the value 60 to the variable weight_kg\n",
    "- Variables are names for values\n",
    "- Python variables can included characters, digits, and underscores.\n",
    "    - Must start with a character\n",
    "    - Case sensitive\n",
    "    \n",
    "- Data types:\n",
    "    - Integer numbers [whole numbers]\n",
    "    - Floating point numbers [decimals]\n",
    "    - Strings\n",
    "        - includes single or double quotes around the text\n",
    "        - eg: patient_id = \"001\"\n",
    "\n",
    "- Functions\n",
    "    - Python has various built-in functions, including print()\n",
    "    - Inside the parenthesis is the argument (or value) to be printed.\n",
    "    - Can call a function inside another function eg calling the type() function inside a print() call.\n",
    "    - Can also do arithmetic inside a print() call without changing the original variables value.\n",
    "\n",
    "- Comments\n",
    "    - to add comments in python precede the line with a hashtag #\n"
   ]
  },
  {
   "cell_type": "code",
   "execution_count": 18,
   "metadata": {},
   "outputs": [
    {
     "name": "stdout",
     "output_type": "stream",
     "text": [
      "132.66\n",
      "inflam_001\n",
      "inflam_001 weight in kilograms: 60.3\n",
      "<class 'float'>\n",
      "<class 'str'>\n",
      "weight in pounds: 132.66\n",
      "weight in kilograms is 60.3 and in pounds it's 132.66\n"
     ]
    }
   ],
   "source": [
    "weight_kg = 60.3\n",
    "patient_id = \"001\"\n",
    "weight_lb = 2.2 * weight_kg\n",
    "patient_id = \"inflam_\" + patient_id\n",
    "print(weight_lb)\n",
    "print(patient_id)\n",
    "print(patient_id, \"weight in kilograms:\", weight_kg)\n",
    "print(type(60.3))\n",
    "print(type(patient_id))\n",
    "print(\"weight in pounds:\", 2.2 * weight_kg)\n",
    "# there are 2.2 pounds per kilogram\n",
    "weight_lb = 2.2*weight_kg\n",
    "print(\"weight in kilograms is\", weight_kg, \"and in pounds it's\", weight_lb)"
   ]
  }
 ],
 "metadata": {
  "kernelspec": {
   "display_name": "Python 3.10.7 64-bit",
   "language": "python",
   "name": "python3"
  },
  "language_info": {
   "codemirror_mode": {
    "name": "ipython",
    "version": 3
   },
   "file_extension": ".py",
   "mimetype": "text/x-python",
   "name": "python",
   "nbconvert_exporter": "python",
   "pygments_lexer": "ipython3",
   "version": "3.10.7"
  },
  "orig_nbformat": 4,
  "vscode": {
   "interpreter": {
    "hash": "26de051ba29f2982a8de78e945f0abaf191376122a1563185a90213a26c5da77"
   }
  }
 },
 "nbformat": 4,
 "nbformat_minor": 2
}
