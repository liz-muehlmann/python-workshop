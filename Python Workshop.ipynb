{
 "cells": [
  {
   "cell_type": "markdown",
   "metadata": {},
   "source": [
    "### Week 1: Python Fundamentals\n",
    "\n",
    "##### Questions:  \n",
    "\n",
    "    1. What basic data types can I work with in python?  \n",
    "    2. How can I create a new variable in Python?  \n",
    "    3. Can I change the value associated with a variable after I create it?  \n",
    "\n",
    "##### Objectives:  \n",
    "\n",
    "    - Assign values to variables."
   ]
  }
 ],
 "metadata": {
  "kernelspec": {
   "display_name": "Python 3.10.7 64-bit",
   "language": "python",
   "name": "python3"
  },
  "language_info": {
   "name": "python",
   "version": "3.10.7"
  },
  "orig_nbformat": 4,
  "vscode": {
   "interpreter": {
    "hash": "26de051ba29f2982a8de78e945f0abaf191376122a1563185a90213a26c5da77"
   }
  }
 },
 "nbformat": 4,
 "nbformat_minor": 2
}
